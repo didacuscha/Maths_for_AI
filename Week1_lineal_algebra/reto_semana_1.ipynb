{
 "cells": [
  {
   "cell_type": "markdown",
   "id": "f88364f3-71e6-4e68-9f17-505087372422",
   "metadata": {},
   "source": [
    "# Reto semana 1 - Matematicas para Machine Learning"
   ]
  },
  {
   "cell_type": "markdown",
   "id": "bd0f913a-13f0-43a7-9b63-1bab185bb622",
   "metadata": {},
   "source": [
    "### Pregunta 1 \n",
    "Se nos es dada la matriz en el reto, la vamos a crear en python a traves de una funcion para posteriormente hacer las comprobaciones que se nos estan requiriéndo."
   ]
  },
  {
   "cell_type": "code",
   "execution_count": 11,
   "id": "2f4180ef-c48e-4c2e-b2de-90a5426b8bca",
   "metadata": {},
   "outputs": [],
   "source": [
    "# importamos las librerias \n",
    "import numpy as np\n",
    "import matplotlib.pyplot as plt"
   ]
  },
  {
   "cell_type": "code",
   "execution_count": 18,
   "id": "7430a420-ba76-4766-b210-359a7c98aec2",
   "metadata": {},
   "outputs": [
    {
     "name": "stdout",
     "output_type": "stream",
     "text": [
      "[[ 0.5        0.8660254]\n",
      " [-0.8660254  0.5      ]]\n"
     ]
    }
   ],
   "source": [
    "def crear_matriz(angulo):\n",
    "    return np.array([\n",
    "        [np.cos(angulo), np.sin(angulo)],\n",
    "        [-np.sin(angulo), np.cos(angulo)]\n",
    "    ])\n",
    "\n",
    "angulo = np.pi / 3  # usamos np.pi que tiene un valor de 180 en radianes\n",
    "Matriz_R = crear_matriz(angulo)\n",
    "print(Matriz_R)"
   ]
  },
  {
   "cell_type": "markdown",
   "id": "cfffd8d5-14fd-43b9-8b02-36ecc79920ac",
   "metadata": {},
   "source": [
    "Demostramos con python que la matriz transpuesta es igual a la matriz invertida, implementamos .T para transponerla y np.linalg.inv para invertirla y asi podemos ver si son iguales"
   ]
  },
  {
   "cell_type": "code",
   "execution_count": 25,
   "id": "2ee399ea-e472-42a9-90c1-51724435dd80",
   "metadata": {},
   "outputs": [
    {
     "name": "stdout",
     "output_type": "stream",
     "text": [
      "Matriz transpuesta\n",
      "[[ 0.5       -0.8660254]\n",
      " [ 0.8660254  0.5      ]]\n",
      "\n",
      " Matriz inversa\n",
      "[[ 0.5       -0.8660254]\n",
      " [ 0.8660254  0.5      ]]\n"
     ]
    }
   ],
   "source": [
    "Matriz_T = Matriz_R.T\n",
    "print(\"Matriz transpuesta\")\n",
    "print(Matriz_T)\n",
    "Matriz_I = np.linalg.inv(Matriz_R)\n",
    "print(\"\\n Matriz inversa\")\n",
    "print(Matriz_I)"
   ]
  },
  {
   "cell_type": "markdown",
   "id": "6b4b84dc-0d14-4f65-9998-a0614ac2d130",
   "metadata": {},
   "source": [
    "Como podemos ver, las matrices son iguales, investigandome mas a fondo sobre la implementación matematica de estas formulas de numpy, identifico que la razon de que sean iguales es la propiedad de identidad trigonométrica."
   ]
  },
  {
   "cell_type": "markdown",
   "id": "fcdb5045-abca-4eb5-9ae9-3e4d40ec8bbf",
   "metadata": {},
   "source": [
    "### Pregunta 2 \n",
    "Demostramos que la determinante de la Matriz_R(angulo) es 1"
   ]
  },
  {
   "cell_type": "code",
   "execution_count": 22,
   "id": "69cd765f-5463-41e0-8892-9c12d0d9c518",
   "metadata": {},
   "outputs": [
    {
     "name": "stdout",
     "output_type": "stream",
     "text": [
      "1.0\n"
     ]
    }
   ],
   "source": [
    "determinante = np.linalg.det(Matriz_R)\n",
    "print(determinante)"
   ]
  },
  {
   "cell_type": "markdown",
   "id": "20361daf-8cf3-4f18-99ff-265e78e2f2de",
   "metadata": {},
   "source": [
    "Además, si lo implementamos directamente por formula matematíca se realiza con esta formula:\n",
    "\n",
    "determinante(Matriz_R) = ad - bc "
   ]
  },
  {
   "cell_type": "markdown",
   "id": "1f09b78d-a043-49d2-bb19-092eaf3bf906",
   "metadata": {},
   "source": [
    "### Pregunta 3\n",
    "\n",
    "Ahora implementamos el codigo en Python que al ingresarle un vector y un angulo en radianes, nos rote nuestro vector, y además que grafique ambos en colores diferentes "
   ]
  },
  {
   "cell_type": "code",
   "execution_count": 27,
   "id": "a91e9588-3790-4083-827d-600c764d780a",
   "metadata": {},
   "outputs": [
    {
     "name": "stdout",
     "output_type": "stream",
     "text": [
      "Vector original: [3 1]\n",
      "Vector rotado: [ 2.3660254  -2.09807621]\n"
     ]
    },
    {
     "data": {
      "image/png": "[encoded data removed]",
      "text/plain": [
       "<Figure size 600x600 with 1 Axes>"
      ]
     },
     "metadata": {},
     "output_type": "display_data"
    }
   ],
   "source": [
    "def rotar_vector(vector, theta):\n",
    "    R = crear_matriz(theta)\n",
    "    return R @ vector\n",
    "\n",
    "def plot_vectors(original_vector, rotated_vector):\n",
    "    plt.figure(figsize=(6, 6))\n",
    "    \n",
    "    plt.quiver(0, 0, original_vector[0], original_vector[1], angles='xy', scale_units='xy', scale=1, color='blue', label='Vector original')\n",
    "    plt.quiver(0, 0, rotated_vector[0], rotated_vector[1], angles='xy', scale_units='xy', scale=1, color='red', label='Vector rotado')\n",
    "\n",
    "    limit = np.max(np.abs(np.concatenate((original_vector, rotated_vector)))) + 1\n",
    "\n",
    "    plt.xlim(-limit, limit)\n",
    "    plt.ylim(-limit, limit)\n",
    "    plt.grid()\n",
    "    plt.legend()\n",
    "    plt.axhline(0, color='black', linewidth=0.5)\n",
    "    plt.axvline(0, color='black', linewidth=0.5)\n",
    "    plt.title('Rotación de un vector en 2D')\n",
    "    plt.xlabel('Eje X')\n",
    "    plt.ylabel('Eje Y')\n",
    "\n",
    "    plt.show()\n",
    "\n",
    "# Ejemplo de uso\n",
    "vector = np.array([3, 1])\n",
    "theta = np.pi / 3  # Lo rotamos 60 grados\n",
    "vector_rotado = rotar_vector(vector, theta)\n",
    "\n",
    "print(\"Vector original:\", vector)\n",
    "print(\"Vector rotado:\", vector_rotado)\n",
    "\n",
    "plot_vectors(vector, vector_rotado)"
   ]
  }
 ],
 "metadata": {
  "kernelspec": {
   "display_name": "Python 3 (ipykernel)",
   "language": "python",
   "name": "python3"
  },
  "language_info": {
   "codemirror_mode": {
    "name": "ipython",
    "version": 3
   },
   "file_extension": ".py",
   "mimetype": "text/x-python",
   "name": "python",
   "nbconvert_exporter": "python",
   "pygments_lexer": "ipython3",
   "version": "3.11.1"
  }
 },
 "nbformat": 4,
 "nbformat_minor": 5
}
